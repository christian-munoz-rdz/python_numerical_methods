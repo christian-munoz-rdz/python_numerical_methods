{
 "cells": [
  {
   "cell_type": "code",
   "execution_count": 1,
   "metadata": {},
   "outputs": [],
   "source": [
    "import pandas as pd\n",
    "import math"
   ]
  },
  {
   "cell_type": "code",
   "execution_count": 3,
   "metadata": {},
   "outputs": [
    {
     "name": "stdout",
     "output_type": "stream",
     "text": [
      "     i       x_i    g(x_i)\n",
      "0  0.0  1.100000  1.019977\n",
      "1  1.0  1.019977  1.044037\n",
      "2  2.0  1.044037  1.036645\n",
      "3  3.0  1.036645  1.038902\n",
      "4  4.0  1.038902  1.038211\n",
      "5  5.0  1.038211  1.038422\n",
      "6  6.0  1.038422  1.038358\n",
      "7  7.0  1.038358  1.038378\n",
      "8  8.0  1.038378  1.038372\n",
      "9  9.0  1.038372  1.038373\n"
     ]
    }
   ],
   "source": [
    "def fixed_point(g, x0, tol=1e-5, max_iter=100):\n",
    "  \"\"\"\n",
    "  Apply the fixed point method to approximate the value of the root of a nonlinear equation.\n",
    "\n",
    "  Args:\n",
    "    g: A function that takes a single argument and returns a single value.\n",
    "    x0: The initial guess for the root.\n",
    "    tol: The tolerance for the error.\n",
    "    max_iter: The maximum number of iterations.\n",
    "\n",
    "  Returns:\n",
    "    A Pandas DataFrame with the columns: i, x_i and g(x_i).\n",
    "  \"\"\"\n",
    "\n",
    "  df = pd.DataFrame(columns=[\"i\", \"x_i\", \"g(x_i)\"], dtype=float)\n",
    "  df.loc[0] = [0, x0, g(x0)]\n",
    "\n",
    "  for i in range(1, max_iter + 1):\n",
    "    x_i = g(df.loc[i - 1, \"x_i\"])\n",
    "    df.loc[i] = [i, x_i, g(x_i)]\n",
    "\n",
    "    if abs(x_i - df.loc[i - 1, \"x_i\"]) < tol:\n",
    "      break\n",
    "\n",
    "  return df\n",
    "\n",
    "# Define the function g(x)\n",
    "def g(x):\n",
    "  return (2 - math.sin(x) - math.log(math.sqrt(x)))**(1/3)\n",
    "\n",
    "# Apply the fixed point method\n",
    "df = fixed_point(g, 10)\n",
    "\n",
    "# Print the DataFrame\n",
    "print(df)"
   ]
  },
  {
   "cell_type": "code",
   "execution_count": 8,
   "metadata": {},
   "outputs": [
    {
     "name": "stdout",
     "output_type": "stream",
     "text": [
      "   i        x_i   x_(i+1)\n",
      "0  0  10.000000  3.529207\n",
      "1  1   3.529207  1.916486\n",
      "2  2   1.916486  1.388299\n",
      "3  3   1.388299  1.178693\n",
      "4  4   1.178693  1.085726\n",
      "5  5   1.085726  1.041988\n",
      "6  6   1.041988  1.020779\n",
      "7  7   1.020779  1.010336\n",
      "8  8   1.010336  1.005155\n",
      "9  9   1.005155  1.002574\n"
     ]
    }
   ],
   "source": [
    "def f(x):\n",
    "  return (x-1)*math.log(x)\n",
    "\n",
    "def f_prime(x):\n",
    "  return math.log(x) + (x-1)/x\n",
    "\n",
    "def newton_raphson(f, f_prime, x0, tol):\n",
    "  \"\"\"Finds the root of a function using the Newton-Raphson method.\n",
    "\n",
    "  Args:\n",
    "    f: A function that takes a single argument and returns a single value.\n",
    "    f_prime: The derivative of the function `f`.\n",
    "    x0: The initial guess for the root.\n",
    "    tol: The tolerance for the convergence criteria.\n",
    "\n",
    "  Returns:\n",
    "    The root of the function, or None if no root is found.\n",
    "  \"\"\"\n",
    "\n",
    "  iterations = []\n",
    "  x = x0\n",
    "  while abs(f(x)) > tol:\n",
    "    iterations.append([len(iterations), x, x - f(x) / f_prime(x)])\n",
    "    x = x - f(x) / f_prime(x)\n",
    "\n",
    "  return pd.DataFrame(iterations, columns=[\"i\", \"x_i\", \"x_(i+1)\"])\n",
    "\n",
    "# Find the root of the function using the Newton-Raphson method.\n",
    "root = newton_raphson(f, f_prime, 10, 1e-5)\n",
    "\n",
    "# Print the root.\n",
    "print(root)"
   ]
  }
 ],
 "metadata": {
  "kernelspec": {
   "display_name": "base",
   "language": "python",
   "name": "python3"
  },
  "language_info": {
   "codemirror_mode": {
    "name": "ipython",
    "version": 3
   },
   "file_extension": ".py",
   "mimetype": "text/x-python",
   "name": "python",
   "nbconvert_exporter": "python",
   "pygments_lexer": "ipython3",
   "version": "3.9.12"
  },
  "orig_nbformat": 4
 },
 "nbformat": 4,
 "nbformat_minor": 2
}
